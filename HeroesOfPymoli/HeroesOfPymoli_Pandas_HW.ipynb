{
 "cells": [
  {
   "cell_type": "code",
   "execution_count": 1,
   "metadata": {},
   "outputs": [
    {
     "data": {
      "text/html": [
       "<div>\n",
       "<style scoped>\n",
       "    .dataframe tbody tr th:only-of-type {\n",
       "        vertical-align: middle;\n",
       "    }\n",
       "\n",
       "    .dataframe tbody tr th {\n",
       "        vertical-align: top;\n",
       "    }\n",
       "\n",
       "    .dataframe thead th {\n",
       "        text-align: right;\n",
       "    }\n",
       "</style>\n",
       "<table border=\"1\" class=\"dataframe\">\n",
       "  <thead>\n",
       "    <tr style=\"text-align: right;\">\n",
       "      <th></th>\n",
       "      <th>Purchase ID</th>\n",
       "      <th>SN</th>\n",
       "      <th>Age</th>\n",
       "      <th>Gender</th>\n",
       "      <th>Item ID</th>\n",
       "      <th>Item Name</th>\n",
       "      <th>Price</th>\n",
       "    </tr>\n",
       "  </thead>\n",
       "  <tbody>\n",
       "    <tr>\n",
       "      <th>0</th>\n",
       "      <td>0</td>\n",
       "      <td>Lisim78</td>\n",
       "      <td>20</td>\n",
       "      <td>Male</td>\n",
       "      <td>108</td>\n",
       "      <td>Extraction, Quickblade Of Trembling Hands</td>\n",
       "      <td>3.53</td>\n",
       "    </tr>\n",
       "    <tr>\n",
       "      <th>1</th>\n",
       "      <td>1</td>\n",
       "      <td>Lisovynya38</td>\n",
       "      <td>40</td>\n",
       "      <td>Male</td>\n",
       "      <td>143</td>\n",
       "      <td>Frenzied Scimitar</td>\n",
       "      <td>1.56</td>\n",
       "    </tr>\n",
       "    <tr>\n",
       "      <th>2</th>\n",
       "      <td>2</td>\n",
       "      <td>Ithergue48</td>\n",
       "      <td>24</td>\n",
       "      <td>Male</td>\n",
       "      <td>92</td>\n",
       "      <td>Final Critic</td>\n",
       "      <td>4.88</td>\n",
       "    </tr>\n",
       "    <tr>\n",
       "      <th>3</th>\n",
       "      <td>3</td>\n",
       "      <td>Chamassasya86</td>\n",
       "      <td>24</td>\n",
       "      <td>Male</td>\n",
       "      <td>100</td>\n",
       "      <td>Blindscythe</td>\n",
       "      <td>3.27</td>\n",
       "    </tr>\n",
       "    <tr>\n",
       "      <th>4</th>\n",
       "      <td>4</td>\n",
       "      <td>Iskosia90</td>\n",
       "      <td>23</td>\n",
       "      <td>Male</td>\n",
       "      <td>131</td>\n",
       "      <td>Fury</td>\n",
       "      <td>1.44</td>\n",
       "    </tr>\n",
       "  </tbody>\n",
       "</table>\n",
       "</div>"
      ],
      "text/plain": [
       "   Purchase ID             SN  Age Gender  Item ID  \\\n",
       "0            0        Lisim78   20   Male      108   \n",
       "1            1    Lisovynya38   40   Male      143   \n",
       "2            2     Ithergue48   24   Male       92   \n",
       "3            3  Chamassasya86   24   Male      100   \n",
       "4            4      Iskosia90   23   Male      131   \n",
       "\n",
       "                                   Item Name  Price  \n",
       "0  Extraction, Quickblade Of Trembling Hands   3.53  \n",
       "1                          Frenzied Scimitar   1.56  \n",
       "2                               Final Critic   4.88  \n",
       "3                                Blindscythe   3.27  \n",
       "4                                       Fury   1.44  "
      ]
     },
     "execution_count": 1,
     "metadata": {},
     "output_type": "execute_result"
    }
   ],
   "source": [
    "#Import Dependencies\n",
    "\n",
    "import pandas as pd\n",
    "import numpy as np\n",
    "\n",
    "#Import the csv file\n",
    "csv_file_path = \"Resources/purchase_data.csv\"\n",
    "\n",
    "#Read the csv file and put it in a DataFrame\n",
    "heros_pymoli = pd.read_csv(csv_file_path)\n",
    "heros_pymoli.head()"
   ]
  },
  {
   "cell_type": "code",
   "execution_count": 2,
   "metadata": {},
   "outputs": [
    {
     "data": {
      "text/plain": [
       "780"
      ]
     },
     "execution_count": 2,
     "metadata": {},
     "output_type": "execute_result"
    }
   ],
   "source": [
    "#Total Players Count\n",
    "players_count = len(heros_pymoli)\n",
    "players_count"
   ]
  },
  {
   "cell_type": "code",
   "execution_count": 3,
   "metadata": {},
   "outputs": [
    {
     "data": {
      "text/html": [
       "<style  type=\"text/css\" >\n",
       "</style><table id=\"T_43e3ad48_5691_11eb_a1f7_e4b31846143d\" ><thead>    <tr>        <th class=\"blank level0\" ></th>        <th class=\"col_heading level0 col0\" >Number of Unique Items</th>        <th class=\"col_heading level0 col1\" >Average Price</th>        <th class=\"col_heading level0 col2\" >Number of Purchases</th>        <th class=\"col_heading level0 col3\" >Total Revenue</th>    </tr></thead><tbody>\n",
       "                <tr>\n",
       "                        <th id=\"T_43e3ad48_5691_11eb_a1f7_e4b31846143dlevel0_row0\" class=\"row_heading level0 row0\" >0</th>\n",
       "                        <td id=\"T_43e3ad48_5691_11eb_a1f7_e4b31846143drow0_col0\" class=\"data row0 col0\" >179</td>\n",
       "                        <td id=\"T_43e3ad48_5691_11eb_a1f7_e4b31846143drow0_col1\" class=\"data row0 col1\" >$2,379.77</td>\n",
       "                        <td id=\"T_43e3ad48_5691_11eb_a1f7_e4b31846143drow0_col2\" class=\"data row0 col2\" >780</td>\n",
       "                        <td id=\"T_43e3ad48_5691_11eb_a1f7_e4b31846143drow0_col3\" class=\"data row0 col3\" >$2,379.77</td>\n",
       "            </tr>\n",
       "    </tbody></table>"
      ],
      "text/plain": [
       "<pandas.io.formats.style.Styler at 0x26f2674a520>"
      ]
     },
     "execution_count": 3,
     "metadata": {},
     "output_type": "execute_result"
    }
   ],
   "source": [
    "#Purchasing Analysis (Total)\n",
    "#Run basic calculations to obtain number of unique items, average price, etc.\n",
    "#Create a summary data frame to hold the results\n",
    "#Optional: give the displayed data cleaner formatting\n",
    "#Display the summary data frame\n",
    "\n",
    "#Find the number of unique items\n",
    "unique_items = len(heros_pymoli[\"Item ID\"].unique())\n",
    "total_purchases = len(heros_pymoli[\"Purchase ID\"])\n",
    "total_revenue = heros_pymoli[\"Price\"].sum()\n",
    "average_price = heros_pymoli[\"Price\"].sum()\n",
    "\n",
    "purchasing_summary = pd.DataFrame({\"Number of Unique Items\":[unique_items],\n",
    "                            \"Average Price\": [average_price],\n",
    "                            \"Number of Purchases\": [total_purchases],\n",
    "                            \"Total Revenue\": [total_revenue]})\n",
    "purchasing_summary.style.format({'Average Price':\"${:,.2f}\",\n",
    "                         'Total Revenue': '${:,.2f}'})"
   ]
  },
  {
   "cell_type": "code",
   "execution_count": 8,
   "metadata": {},
   "outputs": [
    {
     "data": {
      "text/html": [
       "<style  type=\"text/css\" >\n",
       "</style><table id=\"T_dd053500_5692_11eb_8d5e_e4b31846143d\" ><thead>    <tr>        <th class=\"blank level0\" ></th>        <th class=\"col_heading level0 col0\" >Percentage of Players</th>        <th class=\"col_heading level0 col1\" >Total Count</th>    </tr></thead><tbody>\n",
       "                <tr>\n",
       "                        <th id=\"T_dd053500_5692_11eb_8d5e_e4b31846143dlevel0_row0\" class=\"row_heading level0 row0\" >Male</th>\n",
       "                        <td id=\"T_dd053500_5692_11eb_8d5e_e4b31846143drow0_col0\" class=\"data row0 col0\" >62.05%</td>\n",
       "                        <td id=\"T_dd053500_5692_11eb_8d5e_e4b31846143drow0_col1\" class=\"data row0 col1\" >484</td>\n",
       "            </tr>\n",
       "            <tr>\n",
       "                        <th id=\"T_dd053500_5692_11eb_8d5e_e4b31846143dlevel0_row1\" class=\"row_heading level0 row1\" >Female</th>\n",
       "                        <td id=\"T_dd053500_5692_11eb_8d5e_e4b31846143drow1_col0\" class=\"data row1 col0\" >10.38%</td>\n",
       "                        <td id=\"T_dd053500_5692_11eb_8d5e_e4b31846143drow1_col1\" class=\"data row1 col1\" >81</td>\n",
       "            </tr>\n",
       "            <tr>\n",
       "                        <th id=\"T_dd053500_5692_11eb_8d5e_e4b31846143dlevel0_row2\" class=\"row_heading level0 row2\" >Other / Non-Disclosed</th>\n",
       "                        <td id=\"T_dd053500_5692_11eb_8d5e_e4b31846143drow2_col0\" class=\"data row2 col0\" >1.41%</td>\n",
       "                        <td id=\"T_dd053500_5692_11eb_8d5e_e4b31846143drow2_col1\" class=\"data row2 col1\" >11</td>\n",
       "            </tr>\n",
       "    </tbody></table>"
      ],
      "text/plain": [
       "<pandas.io.formats.style.Styler at 0x26f297173d0>"
      ]
     },
     "execution_count": 8,
     "metadata": {},
     "output_type": "execute_result"
    }
   ],
   "source": [
    "#Gender Demographics\n",
    "#Percentage and Count of Male Players\n",
    "#Percentage and Count of Female Players\n",
    "#Percentage and Count of Other/Non-Disclosed\n",
    "\n",
    "total_players =  players_count\n",
    "total_players\n",
    "\n",
    "\n",
    "#Gender Groupby\n",
    "gend_groupby = heros_pymoli.groupby('Gender')\n",
    "\n",
    "#Count total number of screen names by gender\n",
    "total_sn_count = gend_groupby.nunique()[\"SN\"]\n",
    "\n",
    "#Calculations by gender\n",
    "gend_percent_players = (total_sn_count / total_players) * 100\n",
    "gend_demos = pd.DataFrame({\"Percentage of Players\": gend_percent_players, \"Total Count\": total_sn_count})\n",
    "\n",
    "#Format the data frame showing percentages with no index\n",
    "gend_demos.index.name = None\n",
    "gend_demos.sort_values([\"Total Count\"], ascending = False).style.format({\"Percentage of Players\":\"{:.2f}%\"})"
   ]
  },
  {
   "cell_type": "code",
   "execution_count": 12,
   "metadata": {},
   "outputs": [
    {
     "data": {
      "text/html": [
       "<style  type=\"text/css\" >\n",
       "</style><table id=\"T_5be22b4b_5693_11eb_9e93_e4b31846143d\" ><thead>    <tr>        <th class=\"blank level0\" ></th>        <th class=\"col_heading level0 col0\" >Purchase Count</th>        <th class=\"col_heading level0 col1\" >Average Purchase Price</th>        <th class=\"col_heading level0 col2\" >Total Purchase Value</th>        <th class=\"col_heading level0 col3\" >Average Purchase Total per person</th>    </tr>    <tr>        <th class=\"index_name level0\" >Gender</th>        <th class=\"blank\" ></th>        <th class=\"blank\" ></th>        <th class=\"blank\" ></th>        <th class=\"blank\" ></th>    </tr></thead><tbody>\n",
       "                <tr>\n",
       "                        <th id=\"T_5be22b4b_5693_11eb_9e93_e4b31846143dlevel0_row0\" class=\"row_heading level0 row0\" >Female</th>\n",
       "                        <td id=\"T_5be22b4b_5693_11eb_9e93_e4b31846143drow0_col0\" class=\"data row0 col0\" >113</td>\n",
       "                        <td id=\"T_5be22b4b_5693_11eb_9e93_e4b31846143drow0_col1\" class=\"data row0 col1\" >$3.20</td>\n",
       "                        <td id=\"T_5be22b4b_5693_11eb_9e93_e4b31846143drow0_col2\" class=\"data row0 col2\" >$361.94</td>\n",
       "                        <td id=\"T_5be22b4b_5693_11eb_9e93_e4b31846143drow0_col3\" class=\"data row0 col3\" >0.039543</td>\n",
       "            </tr>\n",
       "            <tr>\n",
       "                        <th id=\"T_5be22b4b_5693_11eb_9e93_e4b31846143dlevel0_row1\" class=\"row_heading level0 row1\" >Male</th>\n",
       "                        <td id=\"T_5be22b4b_5693_11eb_9e93_e4b31846143drow1_col0\" class=\"data row1 col0\" >652</td>\n",
       "                        <td id=\"T_5be22b4b_5693_11eb_9e93_e4b31846143drow1_col1\" class=\"data row1 col1\" >$3.02</td>\n",
       "                        <td id=\"T_5be22b4b_5693_11eb_9e93_e4b31846143drow1_col2\" class=\"data row1 col2\" >$1,967.64</td>\n",
       "                        <td id=\"T_5be22b4b_5693_11eb_9e93_e4b31846143drow1_col3\" class=\"data row1 col3\" >0.006235</td>\n",
       "            </tr>\n",
       "            <tr>\n",
       "                        <th id=\"T_5be22b4b_5693_11eb_9e93_e4b31846143dlevel0_row2\" class=\"row_heading level0 row2\" >Other / Non-Disclosed</th>\n",
       "                        <td id=\"T_5be22b4b_5693_11eb_9e93_e4b31846143drow2_col0\" class=\"data row2 col0\" >15</td>\n",
       "                        <td id=\"T_5be22b4b_5693_11eb_9e93_e4b31846143drow2_col1\" class=\"data row2 col1\" >$3.35</td>\n",
       "                        <td id=\"T_5be22b4b_5693_11eb_9e93_e4b31846143drow2_col2\" class=\"data row2 col2\" >$50.19</td>\n",
       "                        <td id=\"T_5be22b4b_5693_11eb_9e93_e4b31846143drow2_col3\" class=\"data row2 col3\" >0.304182</td>\n",
       "            </tr>\n",
       "    </tbody></table>"
      ],
      "text/plain": [
       "<pandas.io.formats.style.Styler at 0x26f28823e20>"
      ]
     },
     "execution_count": 12,
     "metadata": {},
     "output_type": "execute_result"
    }
   ],
   "source": [
    "#Purchasing Analysis (Gender)\n",
    "#Run basic calculations to obtain purchase count, avg. purchase price, avg. purchase total per person etc. by gender\n",
    "#Create a summary data frame to hold the results\n",
    "#Optional: give the displayed data cleaner formatting\n",
    "#Display the summary data frame\n",
    "\n",
    "purchase_sn_count = gend_groupby[\"SN\"].count()\n",
    "average_purchase_price_gend = gend_groupby[\"Price\"].mean()\n",
    "total_purchase_value_gend = gend_groupby[\"Price\"].sum()\n",
    "average_purchase_per_gend = average_purchase_price_gend/total_sn_count\n",
    "\n",
    "purchasing_analysis_gend = pd.DataFrame({\"Purchase Count\": purchase_sn_count,\n",
    "                                   \"Average Purchase Price\": average_purchase_price_gend,\n",
    "                                   \"Total Purchase Value\": total_purchase_value_gend,\n",
    "                                   \"Average Purchase Total per person\": average_purchase_per_gend})\n",
    "purchasing_analysis_gend.index.name = \"Gender\"\n",
    "purchasing_analysis_gend.style.format({\"Average Purchase Price\":\"${:,.2f}\",\n",
    "                                \"Total Purchase Value\":\"${:,.2f}\",\n",
    "                                \"Average Purchase Total per Person\":\"${:,.2f}\"})"
   ]
  },
  {
   "cell_type": "code",
   "execution_count": 25,
   "metadata": {},
   "outputs": [],
   "source": [
    "gender_df = heros_pymoli[[\"SN\", \"Gender\", \"Age\"]].drop_duplicates()\n"
   ]
  },
  {
   "cell_type": "code",
   "execution_count": 24,
   "metadata": {},
   "outputs": [
    {
     "data": {
      "text/html": [
       "<style  type=\"text/css\" >\n",
       "</style><table id=\"T_21d291b4_5695_11eb_8f64_e4b31846143d\" ><thead>    <tr>        <th class=\"blank level0\" ></th>        <th class=\"col_heading level0 col0\" >Percentage of Players</th>        <th class=\"col_heading level0 col1\" >Total Count</th>    </tr></thead><tbody>\n",
       "                <tr>\n",
       "                        <th id=\"T_21d291b4_5695_11eb_8f64_e4b31846143dlevel0_row0\" class=\"row_heading level0 row0\" ><10</th>\n",
       "                        <td id=\"T_21d291b4_5695_11eb_8f64_e4b31846143drow0_col0\" class=\"data row0 col0\" >2.18</td>\n",
       "                        <td id=\"T_21d291b4_5695_11eb_8f64_e4b31846143drow0_col1\" class=\"data row0 col1\" >17</td>\n",
       "            </tr>\n",
       "            <tr>\n",
       "                        <th id=\"T_21d291b4_5695_11eb_8f64_e4b31846143dlevel0_row1\" class=\"row_heading level0 row1\" >10-14</th>\n",
       "                        <td id=\"T_21d291b4_5695_11eb_8f64_e4b31846143drow1_col0\" class=\"data row1 col0\" >2.82</td>\n",
       "                        <td id=\"T_21d291b4_5695_11eb_8f64_e4b31846143drow1_col1\" class=\"data row1 col1\" >22</td>\n",
       "            </tr>\n",
       "            <tr>\n",
       "                        <th id=\"T_21d291b4_5695_11eb_8f64_e4b31846143dlevel0_row2\" class=\"row_heading level0 row2\" >15-19</th>\n",
       "                        <td id=\"T_21d291b4_5695_11eb_8f64_e4b31846143drow2_col0\" class=\"data row2 col0\" >13.72</td>\n",
       "                        <td id=\"T_21d291b4_5695_11eb_8f64_e4b31846143drow2_col1\" class=\"data row2 col1\" >107</td>\n",
       "            </tr>\n",
       "            <tr>\n",
       "                        <th id=\"T_21d291b4_5695_11eb_8f64_e4b31846143dlevel0_row3\" class=\"row_heading level0 row3\" >20-24</th>\n",
       "                        <td id=\"T_21d291b4_5695_11eb_8f64_e4b31846143drow3_col0\" class=\"data row3 col0\" >33.08</td>\n",
       "                        <td id=\"T_21d291b4_5695_11eb_8f64_e4b31846143drow3_col1\" class=\"data row3 col1\" >258</td>\n",
       "            </tr>\n",
       "            <tr>\n",
       "                        <th id=\"T_21d291b4_5695_11eb_8f64_e4b31846143dlevel0_row4\" class=\"row_heading level0 row4\" >25-29</th>\n",
       "                        <td id=\"T_21d291b4_5695_11eb_8f64_e4b31846143drow4_col0\" class=\"data row4 col0\" >9.87</td>\n",
       "                        <td id=\"T_21d291b4_5695_11eb_8f64_e4b31846143drow4_col1\" class=\"data row4 col1\" >77</td>\n",
       "            </tr>\n",
       "            <tr>\n",
       "                        <th id=\"T_21d291b4_5695_11eb_8f64_e4b31846143dlevel0_row5\" class=\"row_heading level0 row5\" >30-34</th>\n",
       "                        <td id=\"T_21d291b4_5695_11eb_8f64_e4b31846143drow5_col0\" class=\"data row5 col0\" >6.67</td>\n",
       "                        <td id=\"T_21d291b4_5695_11eb_8f64_e4b31846143drow5_col1\" class=\"data row5 col1\" >52</td>\n",
       "            </tr>\n",
       "            <tr>\n",
       "                        <th id=\"T_21d291b4_5695_11eb_8f64_e4b31846143dlevel0_row6\" class=\"row_heading level0 row6\" >35-39</th>\n",
       "                        <td id=\"T_21d291b4_5695_11eb_8f64_e4b31846143drow6_col0\" class=\"data row6 col0\" >3.97</td>\n",
       "                        <td id=\"T_21d291b4_5695_11eb_8f64_e4b31846143drow6_col1\" class=\"data row6 col1\" >31</td>\n",
       "            </tr>\n",
       "            <tr>\n",
       "                        <th id=\"T_21d291b4_5695_11eb_8f64_e4b31846143dlevel0_row7\" class=\"row_heading level0 row7\" >40+</th>\n",
       "                        <td id=\"T_21d291b4_5695_11eb_8f64_e4b31846143drow7_col0\" class=\"data row7 col0\" >1.54</td>\n",
       "                        <td id=\"T_21d291b4_5695_11eb_8f64_e4b31846143drow7_col1\" class=\"data row7 col1\" >12</td>\n",
       "            </tr>\n",
       "    </tbody></table>"
      ],
      "text/plain": [
       "<pandas.io.formats.style.Styler at 0x26f29ab4d30>"
      ]
     },
     "execution_count": 24,
     "metadata": {},
     "output_type": "execute_result"
    }
   ],
   "source": [
    "#Age Demographics\n",
    "#Establish bings for ages\n",
    "#Categorize the existing players using the age bins. Hint: use pd.cut()\n",
    "#Calculate the numbers and percentages by age group\n",
    "#Create a summary data frame to hold the results\n",
    "#Optional: round the percentage column to two decimal points\n",
    "#Display Age Demographics Table\n",
    "\n",
    "#Create bins for age groups\n",
    "age_bins = [0, 9.90, 14.90, 19.90, 24.90, 29.90, 34.90, 39.90, 99999]\n",
    "age_groups = [\"<10\", \"10-14\", \"15-19\", \"20-24\", \"25-29\", \"30-34\", \"35-39\", \"40+\"]\n",
    "\n",
    "#Sort data into bins\n",
    "gender_df[\"Age Group\"] = pd.cut(gender_df[\"Age\"], age_bins, labels=age_groups)\n",
    "gender_df\n",
    "\n",
    "age_groupby = gender_df.groupby(\"Age Group\")\n",
    "total_age_count = age_groupby[\"SN\"].nunique()\n",
    "percent_players_age = (total_age_count/total_players) * 100\n",
    "\n",
    "#Once the data is sorted, create a data fram and format it\n",
    "age_demos = pd.DataFrame({\"Percentage of Players\": percent_players_age, \"Total Count\": total_age_count})\n",
    "age_demos.index.name = None\n",
    "age_demos.style.format({\"Percentage of Players\":\"{:,.2f}\"})"
   ]
  },
  {
   "cell_type": "code",
   "execution_count": 33,
   "metadata": {},
   "outputs": [
    {
     "data": {
      "text/html": [
       "<style  type=\"text/css\" >\n",
       "</style><table id=\"T_5334456f_5696_11eb_bb5e_e4b31846143d\" ><thead>    <tr>        <th class=\"blank level0\" ></th>        <th class=\"col_heading level0 col0\" >Average Purchase Price</th>        <th class=\"col_heading level0 col1\" >Total Purchase Value</th>        <th class=\"col_heading level0 col2\" >Average Purchase Total per person</th>    </tr>    <tr>        <th class=\"index_name level0\" >Gender</th>        <th class=\"blank\" ></th>        <th class=\"blank\" ></th>        <th class=\"blank\" ></th>    </tr></thead><tbody>\n",
       "                <tr>\n",
       "                        <th id=\"T_5334456f_5696_11eb_bb5e_e4b31846143dlevel0_row0\" class=\"row_heading level0 row0\" ><10</th>\n",
       "                        <td id=\"T_5334456f_5696_11eb_bb5e_e4b31846143drow0_col0\" class=\"data row0 col0\" >$3.35</td>\n",
       "                        <td id=\"T_5334456f_5696_11eb_bb5e_e4b31846143drow0_col1\" class=\"data row0 col1\" >$77.13</td>\n",
       "                        <td id=\"T_5334456f_5696_11eb_bb5e_e4b31846143drow0_col2\" class=\"data row0 col2\" >0.197263</td>\n",
       "            </tr>\n",
       "            <tr>\n",
       "                        <th id=\"T_5334456f_5696_11eb_bb5e_e4b31846143dlevel0_row1\" class=\"row_heading level0 row1\" >10-14</th>\n",
       "                        <td id=\"T_5334456f_5696_11eb_bb5e_e4b31846143drow1_col0\" class=\"data row1 col0\" >$2.96</td>\n",
       "                        <td id=\"T_5334456f_5696_11eb_bb5e_e4b31846143drow1_col1\" class=\"data row1 col1\" >$82.78</td>\n",
       "                        <td id=\"T_5334456f_5696_11eb_bb5e_e4b31846143drow1_col2\" class=\"data row1 col2\" >0.134383</td>\n",
       "            </tr>\n",
       "            <tr>\n",
       "                        <th id=\"T_5334456f_5696_11eb_bb5e_e4b31846143dlevel0_row2\" class=\"row_heading level0 row2\" >15-19</th>\n",
       "                        <td id=\"T_5334456f_5696_11eb_bb5e_e4b31846143drow2_col0\" class=\"data row2 col0\" >$3.04</td>\n",
       "                        <td id=\"T_5334456f_5696_11eb_bb5e_e4b31846143drow2_col1\" class=\"data row2 col1\" >$412.89</td>\n",
       "                        <td id=\"T_5334456f_5696_11eb_bb5e_e4b31846143drow2_col2\" class=\"data row2 col2\" >0.028373</td>\n",
       "            </tr>\n",
       "            <tr>\n",
       "                        <th id=\"T_5334456f_5696_11eb_bb5e_e4b31846143dlevel0_row3\" class=\"row_heading level0 row3\" >20-24</th>\n",
       "                        <td id=\"T_5334456f_5696_11eb_bb5e_e4b31846143drow3_col0\" class=\"data row3 col0\" >$3.05</td>\n",
       "                        <td id=\"T_5334456f_5696_11eb_bb5e_e4b31846143drow3_col1\" class=\"data row3 col1\" >$1,114.06</td>\n",
       "                        <td id=\"T_5334456f_5696_11eb_bb5e_e4b31846143drow3_col2\" class=\"data row3 col2\" >0.011830</td>\n",
       "            </tr>\n",
       "            <tr>\n",
       "                        <th id=\"T_5334456f_5696_11eb_bb5e_e4b31846143dlevel0_row4\" class=\"row_heading level0 row4\" >25-29</th>\n",
       "                        <td id=\"T_5334456f_5696_11eb_bb5e_e4b31846143drow4_col0\" class=\"data row4 col0\" >$2.90</td>\n",
       "                        <td id=\"T_5334456f_5696_11eb_bb5e_e4b31846143drow4_col1\" class=\"data row4 col1\" >$293.00</td>\n",
       "                        <td id=\"T_5334456f_5696_11eb_bb5e_e4b31846143drow4_col2\" class=\"data row4 col2\" >0.037675</td>\n",
       "            </tr>\n",
       "            <tr>\n",
       "                        <th id=\"T_5334456f_5696_11eb_bb5e_e4b31846143dlevel0_row5\" class=\"row_heading level0 row5\" >30-34</th>\n",
       "                        <td id=\"T_5334456f_5696_11eb_bb5e_e4b31846143drow5_col0\" class=\"data row5 col0\" >$2.93</td>\n",
       "                        <td id=\"T_5334456f_5696_11eb_bb5e_e4b31846143drow5_col1\" class=\"data row5 col1\" >$214.00</td>\n",
       "                        <td id=\"T_5334456f_5696_11eb_bb5e_e4b31846143drow5_col2\" class=\"data row5 col2\" >0.056375</td>\n",
       "            </tr>\n",
       "            <tr>\n",
       "                        <th id=\"T_5334456f_5696_11eb_bb5e_e4b31846143dlevel0_row6\" class=\"row_heading level0 row6\" >35-39</th>\n",
       "                        <td id=\"T_5334456f_5696_11eb_bb5e_e4b31846143drow6_col0\" class=\"data row6 col0\" >$3.60</td>\n",
       "                        <td id=\"T_5334456f_5696_11eb_bb5e_e4b31846143drow6_col1\" class=\"data row6 col1\" >$147.67</td>\n",
       "                        <td id=\"T_5334456f_5696_11eb_bb5e_e4b31846143drow6_col2\" class=\"data row6 col2\" >0.116184</td>\n",
       "            </tr>\n",
       "            <tr>\n",
       "                        <th id=\"T_5334456f_5696_11eb_bb5e_e4b31846143dlevel0_row7\" class=\"row_heading level0 row7\" >40+</th>\n",
       "                        <td id=\"T_5334456f_5696_11eb_bb5e_e4b31846143drow7_col0\" class=\"data row7 col0\" >$2.94</td>\n",
       "                        <td id=\"T_5334456f_5696_11eb_bb5e_e4b31846143drow7_col1\" class=\"data row7 col1\" >$38.24</td>\n",
       "                        <td id=\"T_5334456f_5696_11eb_bb5e_e4b31846143drow7_col2\" class=\"data row7 col2\" >0.245128</td>\n",
       "            </tr>\n",
       "    </tbody></table>"
      ],
      "text/plain": [
       "<pandas.io.formats.style.Styler at 0x26f28823a90>"
      ]
     },
     "execution_count": 33,
     "metadata": {},
     "output_type": "execute_result"
    }
   ],
   "source": [
    "#Purchasing Analsis (Age)\n",
    "#Bin the purchase_data data frame by age\n",
    "#Run basic calculations to obtain purchase count, avg. purchase price, avg. purchase total per person etc. in the table below\n",
    "#Create a summary data frame to hold the results\n",
    "#Optional: give the displayed data cleaner formatting\n",
    "#Display the summary data frame\n",
    "\n",
    "#Create bins for age groups\n",
    "age_bins = [0, 9.90, 14.90, 19.90, 24.90, 29.90, 34.90, 39.90, 99999]\n",
    "age_groups = [\"<10\", \"10-14\", \"15-19\", \"20-24\", \"25-29\", \"30-34\", \"35-39\", \"40+\"]\n",
    "\n",
    "#Sort data into bins\n",
    "heros_pymoli[\"Age Group\"] = pd.cut(heros_pymoli[\"Age\"], age_bins, labels=age_groups)\n",
    "heros_pymoli\n",
    "\n",
    "\n",
    "#Calculate purchasing analysis parameters by age and groupby age\n",
    "purchase_sn_count = heros_pymoli.groupby(\"Age Group\")[\"SN\"].count()\n",
    "average_purchase_price_age = heros_pymoli.groupby(\"Age Group\")[\"Price\"].mean()\n",
    "total_purchase_value_age = heros_pymoli.groupby(\"Age Group\")[\"Price\"].sum()\n",
    "average_purchase_per_age = average_purchase_price_age/total_age_count\n",
    "\n",
    "purchasing_analysis_age = pd.DataFrame({\"Average Purchase Price\": average_purchase_price_age,\n",
    "                                   \"Total Purchase Value\": total_purchase_value_age,\n",
    "                                   \"Average Purchase Total per person\": average_purchase_per_age})\n",
    "purchasing_analysis_age.index.name = \"Gender\"\n",
    "purchasing_analysis_age.style.format({\"Average Purchase Price\":\"${:,.2f}\",\n",
    "                                \"Total Purchase Value\":\"${:,.2f}\",\n",
    "                                \"Average Purchase Total per Person\":\"${:,.2f}\"})"
   ]
  },
  {
   "cell_type": "code",
   "execution_count": 36,
   "metadata": {},
   "outputs": [
    {
     "data": {
      "text/html": [
       "<style  type=\"text/css\" >\n",
       "</style><table id=\"T_9d137e29_5696_11eb_b5b7_e4b31846143d\" ><thead>    <tr>        <th class=\"blank level0\" ></th>        <th class=\"col_heading level0 col0\" >Purchase Count</th>        <th class=\"col_heading level0 col1\" >Average Purchase Price</th>        <th class=\"col_heading level0 col2\" >Total Purchase Value</th>    </tr>    <tr>        <th class=\"index_name level0\" >SN</th>        <th class=\"blank\" ></th>        <th class=\"blank\" ></th>        <th class=\"blank\" ></th>    </tr></thead><tbody>\n",
       "                <tr>\n",
       "                        <th id=\"T_9d137e29_5696_11eb_b5b7_e4b31846143dlevel0_row0\" class=\"row_heading level0 row0\" >Lisosia93</th>\n",
       "                        <td id=\"T_9d137e29_5696_11eb_b5b7_e4b31846143drow0_col0\" class=\"data row0 col0\" >5</td>\n",
       "                        <td id=\"T_9d137e29_5696_11eb_b5b7_e4b31846143drow0_col1\" class=\"data row0 col1\" >$3.79</td>\n",
       "                        <td id=\"T_9d137e29_5696_11eb_b5b7_e4b31846143drow0_col2\" class=\"data row0 col2\" >$18.96</td>\n",
       "            </tr>\n",
       "            <tr>\n",
       "                        <th id=\"T_9d137e29_5696_11eb_b5b7_e4b31846143dlevel0_row1\" class=\"row_heading level0 row1\" >Idastidru52</th>\n",
       "                        <td id=\"T_9d137e29_5696_11eb_b5b7_e4b31846143drow1_col0\" class=\"data row1 col0\" >4</td>\n",
       "                        <td id=\"T_9d137e29_5696_11eb_b5b7_e4b31846143drow1_col1\" class=\"data row1 col1\" >$3.86</td>\n",
       "                        <td id=\"T_9d137e29_5696_11eb_b5b7_e4b31846143drow1_col2\" class=\"data row1 col2\" >$15.45</td>\n",
       "            </tr>\n",
       "            <tr>\n",
       "                        <th id=\"T_9d137e29_5696_11eb_b5b7_e4b31846143dlevel0_row2\" class=\"row_heading level0 row2\" >Chamjask73</th>\n",
       "                        <td id=\"T_9d137e29_5696_11eb_b5b7_e4b31846143drow2_col0\" class=\"data row2 col0\" >3</td>\n",
       "                        <td id=\"T_9d137e29_5696_11eb_b5b7_e4b31846143drow2_col1\" class=\"data row2 col1\" >$4.61</td>\n",
       "                        <td id=\"T_9d137e29_5696_11eb_b5b7_e4b31846143drow2_col2\" class=\"data row2 col2\" >$13.83</td>\n",
       "            </tr>\n",
       "            <tr>\n",
       "                        <th id=\"T_9d137e29_5696_11eb_b5b7_e4b31846143dlevel0_row3\" class=\"row_heading level0 row3\" >Iral74</th>\n",
       "                        <td id=\"T_9d137e29_5696_11eb_b5b7_e4b31846143drow3_col0\" class=\"data row3 col0\" >4</td>\n",
       "                        <td id=\"T_9d137e29_5696_11eb_b5b7_e4b31846143drow3_col1\" class=\"data row3 col1\" >$3.40</td>\n",
       "                        <td id=\"T_9d137e29_5696_11eb_b5b7_e4b31846143drow3_col2\" class=\"data row3 col2\" >$13.62</td>\n",
       "            </tr>\n",
       "            <tr>\n",
       "                        <th id=\"T_9d137e29_5696_11eb_b5b7_e4b31846143dlevel0_row4\" class=\"row_heading level0 row4\" >Iskadarya95</th>\n",
       "                        <td id=\"T_9d137e29_5696_11eb_b5b7_e4b31846143drow4_col0\" class=\"data row4 col0\" >3</td>\n",
       "                        <td id=\"T_9d137e29_5696_11eb_b5b7_e4b31846143drow4_col1\" class=\"data row4 col1\" >$4.37</td>\n",
       "                        <td id=\"T_9d137e29_5696_11eb_b5b7_e4b31846143drow4_col2\" class=\"data row4 col2\" >$13.10</td>\n",
       "            </tr>\n",
       "    </tbody></table>"
      ],
      "text/plain": [
       "<pandas.io.formats.style.Styler at 0x26f288239d0>"
      ]
     },
     "execution_count": 36,
     "metadata": {},
     "output_type": "execute_result"
    }
   ],
   "source": [
    "#Top Spenders\n",
    "#Run basic calculations to obtain the results in the table below\n",
    "#Create a summary data frame to hold the results\n",
    "#Sort the total purchase value column in descending order\n",
    "#Optional: give the displayed data cleaner formatting\n",
    "#Display a preview of the summary data frame\n",
    "\n",
    "#Groupby screen names\n",
    "top_spenders = heros_pymoli.groupby(\"SN\")\n",
    "\n",
    "#Calculate the top spending parameters\n",
    "total_purchase_value_spender = top_spenders[\"Price\"].sum()\n",
    "purchase_count_spender = top_spenders[\"Purchase ID\"].count()\n",
    "average_purchase_price_spender = top_spenders[\"Price\"].mean()\n",
    "\n",
    "#In descending order, create a dataframe with formatting\n",
    "top_spenders_df = pd.DataFrame({\"Purchase Count\": purchase_count_spender,\n",
    "                               \"Average Purchase Price\": average_purchase_price_spender,\n",
    "                               \"Total Purchase Value\":total_purchase_value_spender})\n",
    "descending_spenders = top_spenders_df.sort_values([\"Total Purchase Value\"], ascending = False).head()\n",
    "descending_spenders.style.format({\"Average Purchase Total\":\"${:,.2f}\",\n",
    "                                 \"Average Purchase Price\":\"${:,.2f}\",\n",
    "                                 \"Total Purchase Value\":\"${:,.2f}\"})\n",
    "\n"
   ]
  },
  {
   "cell_type": "code",
   "execution_count": 45,
   "metadata": {},
   "outputs": [
    {
     "data": {
      "text/html": [
       "<style  type=\"text/css\" >\n",
       "</style><table id=\"T_285aa27c_5698_11eb_bfeb_e4b31846143d\" ><thead>    <tr>        <th class=\"blank\" ></th>        <th class=\"blank level0\" ></th>        <th class=\"col_heading level0 col0\" >Purchase Count</th>        <th class=\"col_heading level0 col1\" >Items Price</th>        <th class=\"col_heading level0 col2\" >Total Purchase Value</th>    </tr>    <tr>        <th class=\"index_name level0\" >Item ID</th>        <th class=\"index_name level1\" >Item Name</th>        <th class=\"blank\" ></th>        <th class=\"blank\" ></th>        <th class=\"blank\" ></th>    </tr></thead><tbody>\n",
       "                <tr>\n",
       "                        <th id=\"T_285aa27c_5698_11eb_bfeb_e4b31846143dlevel0_row0\" class=\"row_heading level0 row0\" >92</th>\n",
       "                        <th id=\"T_285aa27c_5698_11eb_bfeb_e4b31846143dlevel1_row0\" class=\"row_heading level1 row0\" >Final Critic</th>\n",
       "                        <td id=\"T_285aa27c_5698_11eb_bfeb_e4b31846143drow0_col0\" class=\"data row0 col0\" >13</td>\n",
       "                        <td id=\"T_285aa27c_5698_11eb_bfeb_e4b31846143drow0_col1\" class=\"data row0 col1\" >4.614615</td>\n",
       "                        <td id=\"T_285aa27c_5698_11eb_bfeb_e4b31846143drow0_col2\" class=\"data row0 col2\" >$59.99</td>\n",
       "            </tr>\n",
       "            <tr>\n",
       "                        <th id=\"T_285aa27c_5698_11eb_bfeb_e4b31846143dlevel0_row1\" class=\"row_heading level0 row1\" >178</th>\n",
       "                        <th id=\"T_285aa27c_5698_11eb_bfeb_e4b31846143dlevel1_row1\" class=\"row_heading level1 row1\" >Oathbreaker, Last Hope of the Breaking Storm</th>\n",
       "                        <td id=\"T_285aa27c_5698_11eb_bfeb_e4b31846143drow1_col0\" class=\"data row1 col0\" >12</td>\n",
       "                        <td id=\"T_285aa27c_5698_11eb_bfeb_e4b31846143drow1_col1\" class=\"data row1 col1\" >4.230000</td>\n",
       "                        <td id=\"T_285aa27c_5698_11eb_bfeb_e4b31846143drow1_col2\" class=\"data row1 col2\" >$50.76</td>\n",
       "            </tr>\n",
       "            <tr>\n",
       "                        <th id=\"T_285aa27c_5698_11eb_bfeb_e4b31846143dlevel0_row2\" class=\"row_heading level0 row2\" >145</th>\n",
       "                        <th id=\"T_285aa27c_5698_11eb_bfeb_e4b31846143dlevel1_row2\" class=\"row_heading level1 row2\" >Fiery Glass Crusader</th>\n",
       "                        <td id=\"T_285aa27c_5698_11eb_bfeb_e4b31846143drow2_col0\" class=\"data row2 col0\" >9</td>\n",
       "                        <td id=\"T_285aa27c_5698_11eb_bfeb_e4b31846143drow2_col1\" class=\"data row2 col1\" >4.580000</td>\n",
       "                        <td id=\"T_285aa27c_5698_11eb_bfeb_e4b31846143drow2_col2\" class=\"data row2 col2\" >$41.22</td>\n",
       "            </tr>\n",
       "            <tr>\n",
       "                        <th id=\"T_285aa27c_5698_11eb_bfeb_e4b31846143dlevel0_row3\" class=\"row_heading level0 row3\" >132</th>\n",
       "                        <th id=\"T_285aa27c_5698_11eb_bfeb_e4b31846143dlevel1_row3\" class=\"row_heading level1 row3\" >Persuasion</th>\n",
       "                        <td id=\"T_285aa27c_5698_11eb_bfeb_e4b31846143drow3_col0\" class=\"data row3 col0\" >9</td>\n",
       "                        <td id=\"T_285aa27c_5698_11eb_bfeb_e4b31846143drow3_col1\" class=\"data row3 col1\" >3.221111</td>\n",
       "                        <td id=\"T_285aa27c_5698_11eb_bfeb_e4b31846143drow3_col2\" class=\"data row3 col2\" >$28.99</td>\n",
       "            </tr>\n",
       "            <tr>\n",
       "                        <th id=\"T_285aa27c_5698_11eb_bfeb_e4b31846143dlevel0_row4\" class=\"row_heading level0 row4\" >108</th>\n",
       "                        <th id=\"T_285aa27c_5698_11eb_bfeb_e4b31846143dlevel1_row4\" class=\"row_heading level1 row4\" >Extraction, Quickblade Of Trembling Hands</th>\n",
       "                        <td id=\"T_285aa27c_5698_11eb_bfeb_e4b31846143drow4_col0\" class=\"data row4 col0\" >9</td>\n",
       "                        <td id=\"T_285aa27c_5698_11eb_bfeb_e4b31846143drow4_col1\" class=\"data row4 col1\" >3.530000</td>\n",
       "                        <td id=\"T_285aa27c_5698_11eb_bfeb_e4b31846143drow4_col2\" class=\"data row4 col2\" >$31.77</td>\n",
       "            </tr>\n",
       "    </tbody></table>"
      ],
      "text/plain": [
       "<pandas.io.formats.style.Styler at 0x26f29cd90d0>"
      ]
     },
     "execution_count": 45,
     "metadata": {},
     "output_type": "execute_result"
    }
   ],
   "source": [
    "#Most Popular Items\n",
    "#Retrieve the Item ID, Item Name, and Item Price columns\n",
    "#Group by Item ID and Item Name. Perform calculations to obtain purchase count, item price, and total purchase value\n",
    "#Create a summary data frame to hold the results\n",
    "#Sort the purchase count column in descending order\n",
    "#Optional: give the displayed data cleaner formatting\n",
    "#Display a preview of the summary data frame\n",
    "\n",
    "#Retrieve the Item ID, Item Name, and Item Price columns\n",
    "\n",
    "items_cols = heros_pymoli[[\"Item ID\", \"Item Name\", \"Price\"]]\n",
    "\n",
    "#Group by Item ID and Item Name. Perform calculations to obtain purchase count, item price, and total purchase value\n",
    "items_stats = items_cols.groupby([\"Item ID\", \"Item Name\"])\n",
    "purchase_count_items = items_stats[\"Price\"].count()\n",
    "total_purchase_value_items = (items_stats[\"Price\"].sum())\n",
    "items_price = total_purchase_value_items/purchase_count_items\n",
    "\n",
    "##Create a summary data frame to hold the results\n",
    "most_popular_items = pd.DataFrame({\"Purchase Count\": purchase_count_items,\n",
    "                                  \"Items Price\": items_price,\n",
    "                                  \"Total Purchase Value\": total_purchase_value_items})\n",
    "popular_items_descending = most_popular_items.sort_values([\"Purchase Count\"], ascending=False).head()\n",
    "popular_items_descending.style.format({\"Item Price\":\"${:,.2f}\",\n",
    "                                          \"Total Purchase Value\":\"${:,.2f}\"})"
   ]
  },
  {
   "cell_type": "code",
   "execution_count": 46,
   "metadata": {},
   "outputs": [
    {
     "data": {
      "text/html": [
       "<style  type=\"text/css\" >\n",
       "</style><table id=\"T_28c1095a_5698_11eb_9f00_e4b31846143d\" ><thead>    <tr>        <th class=\"blank\" ></th>        <th class=\"blank level0\" ></th>        <th class=\"col_heading level0 col0\" >Purchase Count</th>        <th class=\"col_heading level0 col1\" >Items Price</th>        <th class=\"col_heading level0 col2\" >Total Purchase Value</th>    </tr>    <tr>        <th class=\"index_name level0\" >Item ID</th>        <th class=\"index_name level1\" >Item Name</th>        <th class=\"blank\" ></th>        <th class=\"blank\" ></th>        <th class=\"blank\" ></th>    </tr></thead><tbody>\n",
       "                <tr>\n",
       "                        <th id=\"T_28c1095a_5698_11eb_9f00_e4b31846143dlevel0_row0\" class=\"row_heading level0 row0\" >92</th>\n",
       "                        <th id=\"T_28c1095a_5698_11eb_9f00_e4b31846143dlevel1_row0\" class=\"row_heading level1 row0\" >Final Critic</th>\n",
       "                        <td id=\"T_28c1095a_5698_11eb_9f00_e4b31846143drow0_col0\" class=\"data row0 col0\" >13</td>\n",
       "                        <td id=\"T_28c1095a_5698_11eb_9f00_e4b31846143drow0_col1\" class=\"data row0 col1\" >4.614615</td>\n",
       "                        <td id=\"T_28c1095a_5698_11eb_9f00_e4b31846143drow0_col2\" class=\"data row0 col2\" >$59.99</td>\n",
       "            </tr>\n",
       "            <tr>\n",
       "                        <th id=\"T_28c1095a_5698_11eb_9f00_e4b31846143dlevel0_row1\" class=\"row_heading level0 row1\" >178</th>\n",
       "                        <th id=\"T_28c1095a_5698_11eb_9f00_e4b31846143dlevel1_row1\" class=\"row_heading level1 row1\" >Oathbreaker, Last Hope of the Breaking Storm</th>\n",
       "                        <td id=\"T_28c1095a_5698_11eb_9f00_e4b31846143drow1_col0\" class=\"data row1 col0\" >12</td>\n",
       "                        <td id=\"T_28c1095a_5698_11eb_9f00_e4b31846143drow1_col1\" class=\"data row1 col1\" >4.230000</td>\n",
       "                        <td id=\"T_28c1095a_5698_11eb_9f00_e4b31846143drow1_col2\" class=\"data row1 col2\" >$50.76</td>\n",
       "            </tr>\n",
       "            <tr>\n",
       "                        <th id=\"T_28c1095a_5698_11eb_9f00_e4b31846143dlevel0_row2\" class=\"row_heading level0 row2\" >82</th>\n",
       "                        <th id=\"T_28c1095a_5698_11eb_9f00_e4b31846143dlevel1_row2\" class=\"row_heading level1 row2\" >Nirvana</th>\n",
       "                        <td id=\"T_28c1095a_5698_11eb_9f00_e4b31846143drow2_col0\" class=\"data row2 col0\" >9</td>\n",
       "                        <td id=\"T_28c1095a_5698_11eb_9f00_e4b31846143drow2_col1\" class=\"data row2 col1\" >4.900000</td>\n",
       "                        <td id=\"T_28c1095a_5698_11eb_9f00_e4b31846143drow2_col2\" class=\"data row2 col2\" >$44.10</td>\n",
       "            </tr>\n",
       "            <tr>\n",
       "                        <th id=\"T_28c1095a_5698_11eb_9f00_e4b31846143dlevel0_row3\" class=\"row_heading level0 row3\" >145</th>\n",
       "                        <th id=\"T_28c1095a_5698_11eb_9f00_e4b31846143dlevel1_row3\" class=\"row_heading level1 row3\" >Fiery Glass Crusader</th>\n",
       "                        <td id=\"T_28c1095a_5698_11eb_9f00_e4b31846143drow3_col0\" class=\"data row3 col0\" >9</td>\n",
       "                        <td id=\"T_28c1095a_5698_11eb_9f00_e4b31846143drow3_col1\" class=\"data row3 col1\" >4.580000</td>\n",
       "                        <td id=\"T_28c1095a_5698_11eb_9f00_e4b31846143drow3_col2\" class=\"data row3 col2\" >$41.22</td>\n",
       "            </tr>\n",
       "            <tr>\n",
       "                        <th id=\"T_28c1095a_5698_11eb_9f00_e4b31846143dlevel0_row4\" class=\"row_heading level0 row4\" >103</th>\n",
       "                        <th id=\"T_28c1095a_5698_11eb_9f00_e4b31846143dlevel1_row4\" class=\"row_heading level1 row4\" >Singed Scalpel</th>\n",
       "                        <td id=\"T_28c1095a_5698_11eb_9f00_e4b31846143drow4_col0\" class=\"data row4 col0\" >8</td>\n",
       "                        <td id=\"T_28c1095a_5698_11eb_9f00_e4b31846143drow4_col1\" class=\"data row4 col1\" >4.350000</td>\n",
       "                        <td id=\"T_28c1095a_5698_11eb_9f00_e4b31846143drow4_col2\" class=\"data row4 col2\" >$34.80</td>\n",
       "            </tr>\n",
       "    </tbody></table>"
      ],
      "text/plain": [
       "<pandas.io.formats.style.Styler at 0x26f29cd9970>"
      ]
     },
     "execution_count": 46,
     "metadata": {},
     "output_type": "execute_result"
    }
   ],
   "source": [
    "#Most Profitable Items\n",
    "#Sort the above table by total purchase value in descending order\n",
    "#Optional: give the displayed data cleaner formatting\n",
    "#Display a preview of the data frame\n",
    "\n",
    "\n",
    "items_popular_value = most_popular_items.sort_values([\"Total Purchase Value\"], ascending=False).head()\n",
    "items_popular_value.style.format({\"Item Price\":\"${:,.2f}\",\n",
    "                                      \"Total Purchase Value\":\"${:,.2f}\"})"
   ]
  },
  {
   "cell_type": "code",
   "execution_count": null,
   "metadata": {},
   "outputs": [],
   "source": []
  }
 ],
 "metadata": {
  "kernelspec": {
   "display_name": "Python 3",
   "language": "python",
   "name": "python3"
  },
  "language_info": {
   "codemirror_mode": {
    "name": "ipython",
    "version": 3
   },
   "file_extension": ".py",
   "mimetype": "text/x-python",
   "name": "python",
   "nbconvert_exporter": "python",
   "pygments_lexer": "ipython3",
   "version": "3.8.5"
  }
 },
 "nbformat": 4,
 "nbformat_minor": 4
}
